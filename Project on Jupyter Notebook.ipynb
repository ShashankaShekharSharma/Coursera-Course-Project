{
 "cells": [
  {
   "cell_type": "markdown",
   "metadata": {},
   "source": [
    "<center>\n",
    "    <img src=\"https://cf-courses-data.s3.us.cloud-object-storage.appdomain.cloud/IBMDeveloperSkillsNetwork-DS0105EN-SkillsNetwork/labs/Module2/images/SN_web_lightmode.png\" width=\"300\" alt=\"cognitiveclass.ai logo\">\n",
    "</center>\n"
   ]
  },
  {
   "cell_type": "markdown",
   "metadata": {},
   "source": [
    "#### Add your code below following the instructions given in the course\n"
   ]
  },
  {
   "cell_type": "markdown",
   "metadata": {},
   "source": [
    "1. Create a markdown cell with the title of the notebook. (1 pt)"
   ]
  },
  {
   "cell_type": "markdown",
   "metadata": {},
   "source": [
    "# Project on Jupyter Notebook"
   ]
  },
  {
   "cell_type": "markdown",
   "metadata": {},
   "source": [
    "2. Create a markdown cell for an introduction. "
   ]
  },
  {
   "cell_type": "markdown",
   "metadata": {},
   "source": [
    "Ans: A Jupyter Notebook tutorial some Python basics which will be useful for us in out Data Science Career"
   ]
  },
  {
   "cell_type": "markdown",
   "metadata": {},
   "source": [
    "3. Create a markdown cell to list data science languages."
   ]
  },
  {
   "cell_type": "markdown",
   "metadata": {},
   "source": [
    "Ans: Python, R, SQL, Julia, Java, Scala, MATLAB, SAS, JavaScript"
   ]
  },
  {
   "cell_type": "markdown",
   "metadata": {},
   "source": [
    "4.  Create a markdown cell to list data science libraries"
   ]
  },
  {
   "cell_type": "markdown",
   "metadata": {},
   "source": [
    "Ans: NumPy, Pandas, Matplotlib, Seaborn, Scikit-learn, Tensorflow, Pytorch, Keras, SciPy"
   ]
  },
  {
   "cell_type": "markdown",
   "metadata": {},
   "source": [
    "5. Create a markdown cell with a table of Data Science tools."
   ]
  },
  {
   "cell_type": "markdown",
   "metadata": {},
   "source": [
    "# Integrated Development Environments (IDEs):\n",
    "<ul>\n",
    "    <li>Jypyter Notebook</li>\n",
    "    <li>R Studio</li>\n",
    "    <li>Spyder</li>\n",
    "</ul>\n",
    "\n",
    "# Data Manipulation and Analysis:\n",
    "\n",
    "<ul>\n",
    "    <li>R</li>\n",
    "    <li>Python</li>\n",
    "    <li>Excel</li>\n",
    "</ul>\n",
    "\n",
    "# Data Visualization:\n",
    "\n",
    "<ul>\n",
    "    <li>Power BI</li>\n",
    "    <li>Tableu</li>\n",
    "    <li>ggplot2</li>\n",
    "</ul>\n",
    "\n",
    "# Machine Learning\n",
    "<ul>\n",
    "    <li>Scikit-Learn</li>\n",
    "    <li>TensorFlow</li>\n",
    "    <li>PyTorch</li>\n",
    "</ul>\n",
    "\n",
    "# Big Data Processing:\n",
    "<ul>\n",
    "    <li>Apache Hadoop</li>\n",
    "    <li>Apache Spark</li>\n",
    "</ul>\n",
    "\n",
    "# Database Management:\n",
    "<ul>\n",
    "    <li>SQL</li>\n",
    "    <li>MongoDB</li>\n",
    "</ul>"
   ]
  },
  {
   "cell_type": "markdown",
   "metadata": {},
   "source": [
    "6. Create a markdown cell introducing arithmetic expression examples."
   ]
  },
  {
   "cell_type": "markdown",
   "metadata": {},
   "source": [
    "# Arithmetic Expression Examples\n",
    "\n",
    "Arithmetic expressions involve mathematical operations such as addition, subtraction, multiplication, and division. These expressions are fundamental in mathematics and play a crucial role in various fields, including programming and data science.\n",
    "\n",
    "## Basic Operations\n",
    "\n",
    "### Addition\n",
    "The addition operation is represented by the `+` symbol. For example:\n",
    "    \n",
    "```python\n",
    "2 + 3\n",
    "```\n",
    "\n",
    "### Subtraction\n",
    "\n",
    "```python\n",
    "5 - 2\n",
    "```\n",
    "\n",
    "### Multiplication\n",
    "\n",
    "```python\n",
    "4 * 3\n",
    "```\n",
    "\n",
    "### Division\n",
    "\n",
    "```python\n",
    "8 / 2\n",
    "```\n",
    "\n",
    "### Composite function\n",
    "\n",
    "```python\n",
    "(2 + 5) * 3 / 2\n",
    "```\n"
   ]
  },
  {
   "cell_type": "markdown",
   "metadata": {},
   "source": [
    "7. Create a code cell to multiply and add numbers. "
   ]
  },
  {
   "cell_type": "code",
   "execution_count": 8,
   "metadata": {},
   "outputs": [
    {
     "name": "stdout",
     "output_type": "stream",
     "text": [
      "The result of multiplying 5 and 3 is: 15\n",
      "The result of adding 5 and 3 is: 8\n"
     ]
    }
   ],
   "source": [
    "num1 = 5\n",
    "num2 = 3\n",
    "result_multiply = num1 * num2\n",
    "result_add = num1 + num2\n",
    "print(f\"The result of multiplying {num1} and {num2} is: {result_multiply}\")\n",
    "print(f\"The result of adding {num1} and {num2} is: {result_add}\")"
   ]
  },
  {
   "cell_type": "markdown",
   "metadata": {},
   "source": [
    "8. Create a code cell to convert minutes to hours."
   ]
  },
  {
   "cell_type": "code",
   "execution_count": 9,
   "metadata": {},
   "outputs": [
    {
     "name": "stdout",
     "output_type": "stream",
     "text": [
      "120 minutes is equal to 2.0 hours\n"
     ]
    }
   ],
   "source": [
    "minutes = 120\n",
    "hours = minutes / 60\n",
    "print(f\"{minutes} minutes is equal to {hours} hours\")"
   ]
  },
  {
   "cell_type": "markdown",
   "metadata": {},
   "source": [
    "9. Insert a markdown cell to list Objectives"
   ]
  },
  {
   "cell_type": "markdown",
   "metadata": {},
   "source": [
    "# Objectives\n",
    "\n",
    "In this code demonstration, our main objectives are:\n",
    "\n",
    "1. **Perform Arithmetic Operations:**\n",
    "   - Explore basic arithmetic operations such as addition, subtraction, multiplication, and division.\n",
    "\n",
    "2. **Multiply and Add Numbers:**\n",
    "   - Demonstrate how to multiply and add two numbers in Python.\n",
    "\n",
    "3. **Convert Minutes to Hours:**\n",
    "   - Illustrate the conversion of minutes to hours.\n",
    "\n",
    "Feel free to run the code cells to see the results and gain a better understanding of the specified objectives.\n"
   ]
  },
  {
   "cell_type": "markdown",
   "metadata": {},
   "source": [
    "10. Create a markdown cell to indicate the Author’s name."
   ]
  },
  {
   "cell_type": "markdown",
   "metadata": {},
   "source": [
    "# Topic Name: Project on Data Analysis\n",
    "## By Shashanka Shekhar Sharma"
   ]
  },
  {
   "cell_type": "code",
   "execution_count": null,
   "metadata": {},
   "outputs": [],
   "source": []
  }
 ],
 "metadata": {
  "kernelspec": {
   "display_name": "Python 3 (ipykernel)",
   "language": "python",
   "name": "python3"
  },
  "language_info": {
   "codemirror_mode": {
    "name": "ipython",
    "version": 3
   },
   "file_extension": ".py",
   "mimetype": "text/x-python",
   "name": "python",
   "nbconvert_exporter": "python",
   "pygments_lexer": "ipython3",
   "version": "3.11.4"
  }
 },
 "nbformat": 4,
 "nbformat_minor": 4
}
